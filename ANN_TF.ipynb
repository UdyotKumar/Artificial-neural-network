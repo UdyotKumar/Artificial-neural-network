{
 "cells": [
  {
   "cell_type": "markdown",
   "metadata": {},
   "source": [
    "# Artifical Neural Network using Keras and TensorFlow\n",
    "\n",
    "-Udyot Kumar"
   ]
  },
  {
   "cell_type": "markdown",
   "metadata": {},
   "source": [
    "The main aim of this project is to help me understand how Neural Networks works. I have also learned how to use TensorFlow and Keras in Python"
   ]
  },
  {
   "cell_type": "markdown",
   "metadata": {},
   "source": [
    "In this project I have taken a dataset from a bank consisting of information about a customer's credit score, gender, age etc and here we are predicting which customer of the bank will leave. So in the end with the help of neural network we will provide bank a list of customers in decreasing order of risk of leaving the bank so that bank can put some efforts to save the customer from leaving the bank."
   ]
  },
  {
   "cell_type": "code",
   "execution_count": 1,
   "metadata": {},
   "outputs": [
    {
     "name": "stderr",
     "output_type": "stream",
     "text": [
      "Using TensorFlow backend.\n"
     ]
    }
   ],
   "source": [
    "import keras"
   ]
  },
  {
   "cell_type": "code",
   "execution_count": 3,
   "metadata": {},
   "outputs": [],
   "source": [
    "# Importing the libraries\n",
    "import numpy as np\n",
    "import matplotlib.pyplot as plt\n",
    "import pandas as pd"
   ]
  },
  {
   "cell_type": "code",
   "execution_count": 4,
   "metadata": {
    "collapsed": true
   },
   "outputs": [],
   "source": [
    "# Importing the dataset\n",
    "dataset = pd.read_csv(\"C:\\Machine Learning\\Artificial-Neural-Networks\\Churn_Modelling.csv\")\n",
    "X = dataset.iloc[:, 3:13].values\n",
    "y = dataset.iloc[:, 13].values"
   ]
  },
  {
   "cell_type": "code",
   "execution_count": 21,
   "metadata": {},
   "outputs": [
    {
     "data": {
      "text/html": [
       "<div>\n",
       "<table border=\"1\" class=\"dataframe\">\n",
       "  <thead>\n",
       "    <tr style=\"text-align: right;\">\n",
       "      <th></th>\n",
       "      <th>RowNumber</th>\n",
       "      <th>CustomerId</th>\n",
       "      <th>Surname</th>\n",
       "      <th>CreditScore</th>\n",
       "      <th>Geography</th>\n",
       "      <th>Gender</th>\n",
       "      <th>Age</th>\n",
       "      <th>Tenure</th>\n",
       "      <th>Balance</th>\n",
       "      <th>NumOfProducts</th>\n",
       "      <th>HasCrCard</th>\n",
       "      <th>IsActiveMember</th>\n",
       "      <th>EstimatedSalary</th>\n",
       "      <th>Exited</th>\n",
       "    </tr>\n",
       "  </thead>\n",
       "  <tbody>\n",
       "    <tr>\n",
       "      <th>0</th>\n",
       "      <td>1</td>\n",
       "      <td>15634602</td>\n",
       "      <td>Hargrave</td>\n",
       "      <td>619</td>\n",
       "      <td>France</td>\n",
       "      <td>Female</td>\n",
       "      <td>42</td>\n",
       "      <td>2</td>\n",
       "      <td>0.00</td>\n",
       "      <td>1</td>\n",
       "      <td>1</td>\n",
       "      <td>1</td>\n",
       "      <td>101348.88</td>\n",
       "      <td>1</td>\n",
       "    </tr>\n",
       "    <tr>\n",
       "      <th>1</th>\n",
       "      <td>2</td>\n",
       "      <td>15647311</td>\n",
       "      <td>Hill</td>\n",
       "      <td>608</td>\n",
       "      <td>Spain</td>\n",
       "      <td>Female</td>\n",
       "      <td>41</td>\n",
       "      <td>1</td>\n",
       "      <td>83807.86</td>\n",
       "      <td>1</td>\n",
       "      <td>0</td>\n",
       "      <td>1</td>\n",
       "      <td>112542.58</td>\n",
       "      <td>0</td>\n",
       "    </tr>\n",
       "    <tr>\n",
       "      <th>2</th>\n",
       "      <td>3</td>\n",
       "      <td>15619304</td>\n",
       "      <td>Onio</td>\n",
       "      <td>502</td>\n",
       "      <td>France</td>\n",
       "      <td>Female</td>\n",
       "      <td>42</td>\n",
       "      <td>8</td>\n",
       "      <td>159660.80</td>\n",
       "      <td>3</td>\n",
       "      <td>1</td>\n",
       "      <td>0</td>\n",
       "      <td>113931.57</td>\n",
       "      <td>1</td>\n",
       "    </tr>\n",
       "    <tr>\n",
       "      <th>3</th>\n",
       "      <td>4</td>\n",
       "      <td>15701354</td>\n",
       "      <td>Boni</td>\n",
       "      <td>699</td>\n",
       "      <td>France</td>\n",
       "      <td>Female</td>\n",
       "      <td>39</td>\n",
       "      <td>1</td>\n",
       "      <td>0.00</td>\n",
       "      <td>2</td>\n",
       "      <td>0</td>\n",
       "      <td>0</td>\n",
       "      <td>93826.63</td>\n",
       "      <td>0</td>\n",
       "    </tr>\n",
       "    <tr>\n",
       "      <th>4</th>\n",
       "      <td>5</td>\n",
       "      <td>15737888</td>\n",
       "      <td>Mitchell</td>\n",
       "      <td>850</td>\n",
       "      <td>Spain</td>\n",
       "      <td>Female</td>\n",
       "      <td>43</td>\n",
       "      <td>2</td>\n",
       "      <td>125510.82</td>\n",
       "      <td>1</td>\n",
       "      <td>1</td>\n",
       "      <td>1</td>\n",
       "      <td>79084.10</td>\n",
       "      <td>0</td>\n",
       "    </tr>\n",
       "  </tbody>\n",
       "</table>\n",
       "</div>"
      ],
      "text/plain": [
       "   RowNumber  CustomerId   Surname  CreditScore Geography  Gender  Age  \\\n",
       "0          1    15634602  Hargrave          619    France  Female   42   \n",
       "1          2    15647311      Hill          608     Spain  Female   41   \n",
       "2          3    15619304      Onio          502    France  Female   42   \n",
       "3          4    15701354      Boni          699    France  Female   39   \n",
       "4          5    15737888  Mitchell          850     Spain  Female   43   \n",
       "\n",
       "   Tenure    Balance  NumOfProducts  HasCrCard  IsActiveMember  \\\n",
       "0       2       0.00              1          1               1   \n",
       "1       1   83807.86              1          0               1   \n",
       "2       8  159660.80              3          1               0   \n",
       "3       1       0.00              2          0               0   \n",
       "4       2  125510.82              1          1               1   \n",
       "\n",
       "   EstimatedSalary  Exited  \n",
       "0        101348.88       1  \n",
       "1        112542.58       0  \n",
       "2        113931.57       1  \n",
       "3         93826.63       0  \n",
       "4         79084.10       0  "
      ]
     },
     "execution_count": 21,
     "metadata": {},
     "output_type": "execute_result"
    }
   ],
   "source": [
    "dataset.head(5)"
   ]
  },
  {
   "cell_type": "code",
   "execution_count": 5,
   "metadata": {
    "collapsed": true
   },
   "outputs": [],
   "source": [
    "# Encoding categorical data\n",
    "from sklearn.preprocessing import LabelEncoder, OneHotEncoder\n",
    "labelencoder_X_1 = LabelEncoder()\n",
    "X[:, 1] = labelencoder_X_1.fit_transform(X[:, 1]) # converting Geography into numerical format\n",
    "labelencoder_X_2 = LabelEncoder()\n",
    "X[:, 2] = labelencoder_X_2.fit_transform(X[:, 2]) # convert gender into numerical format\n",
    "onehotencoder = OneHotEncoder(categorical_features = [1]) # converting geography into dummies\n",
    "X = onehotencoder.fit_transform(X).toarray()\n",
    "X = X[:, 1:]"
   ]
  },
  {
   "cell_type": "code",
   "execution_count": 6,
   "metadata": {
    "collapsed": true
   },
   "outputs": [],
   "source": [
    "# Splitting the dataset into the Training set and Test set\n",
    "from sklearn.model_selection import train_test_split\n",
    "X_train, X_test, y_train, y_test = train_test_split(X, y, test_size = 0.2, random_state = 0)"
   ]
  },
  {
   "cell_type": "code",
   "execution_count": 7,
   "metadata": {
    "collapsed": true
   },
   "outputs": [],
   "source": [
    "# Standardizing variables\n",
    "from sklearn.preprocessing import StandardScaler\n",
    "sc = StandardScaler()\n",
    "X_train = sc.fit_transform(X_train)\n",
    "X_test = sc.transform(X_test)\n"
   ]
  },
  {
   "cell_type": "code",
   "execution_count": 8,
   "metadata": {
    "collapsed": true
   },
   "outputs": [],
   "source": [
    "import keras\n",
    "from keras.models import Sequential # to initialize the neural network\n",
    "from keras.layers import Dense # to create layers in ANN\n",
    "import tensorflow as tf "
   ]
  },
  {
   "cell_type": "code",
   "execution_count": 9,
   "metadata": {
    "collapsed": true
   },
   "outputs": [],
   "source": [
    "# Initialising the ANN\n",
    "classifier = Sequential()"
   ]
  },
  {
   "cell_type": "code",
   "execution_count": 10,
   "metadata": {
    "collapsed": true
   },
   "outputs": [],
   "source": [
    "# Adding the input layer and the first hidden layer\n",
    "classifier.add(Dense(units = 6, kernel_initializer=\"uniform\", activation = 'relu', input_dim = 11))"
   ]
  },
  {
   "cell_type": "markdown",
   "metadata": {},
   "source": [
    "Input variables are 11 and that's why input_dim = 11. Units=6 because a general rule is that we take units as (input variables + dependent variables) / 2"
   ]
  },
  {
   "cell_type": "code",
   "execution_count": 11,
   "metadata": {
    "collapsed": true
   },
   "outputs": [],
   "source": [
    "# Adding the second hidden layer\n",
    "classifier.add(Dense(units = 6, kernel_initializer = 'uniform', activation = 'relu'))"
   ]
  },
  {
   "cell_type": "code",
   "execution_count": 12,
   "metadata": {
    "collapsed": true
   },
   "outputs": [],
   "source": [
    "# Adding the output layer\n",
    "classifier.add(Dense(units = 1, kernel_initializer = 'uniform', activation = 'sigmoid'))"
   ]
  },
  {
   "cell_type": "markdown",
   "metadata": {},
   "source": [
    "Here the unit=1 because we are having binary output (0 or 1) in this case so only single output will come from the hidden layer. Activation is sigmid function as we are doing binary classification here."
   ]
  },
  {
   "cell_type": "code",
   "execution_count": 13,
   "metadata": {
    "collapsed": true
   },
   "outputs": [],
   "source": [
    "# Compiling the ANN\n",
    "classifier.compile(optimizer = 'adam', loss = 'binary_crossentropy', metrics = ['accuracy'])"
   ]
  },
  {
   "cell_type": "code",
   "execution_count": 14,
   "metadata": {},
   "outputs": [
    {
     "name": "stderr",
     "output_type": "stream",
     "text": [
      "C:\\Users\\UdyotKumar\\Anaconda3\\envs\\tensorflow\\lib\\site-packages\\keras\\models.py:834: UserWarning: The `nb_epoch` argument in `fit` has been renamed `epochs`.\n",
      "  warnings.warn('The `nb_epoch` argument in `fit` '\n"
     ]
    },
    {
     "name": "stdout",
     "output_type": "stream",
     "text": [
      "Epoch 1/100\n",
      "8000/8000 [==============================] - 2s - loss: 0.4864 - acc: 0.7959     \n",
      "Epoch 2/100\n",
      "8000/8000 [==============================] - 1s - loss: 0.4203 - acc: 0.7960     \n",
      "Epoch 3/100\n",
      "8000/8000 [==============================] - 2s - loss: 0.4093 - acc: 0.7982     \n",
      "Epoch 4/100\n",
      "8000/8000 [==============================] - 1s - loss: 0.4008 - acc: 0.8269     \n",
      "Epoch 5/100\n",
      "8000/8000 [==============================] - 2s - loss: 0.3926 - acc: 0.8276     \n",
      "Epoch 6/100\n",
      "8000/8000 [==============================] - 2s - loss: 0.3861 - acc: 0.8294     \n",
      "Epoch 7/100\n",
      "8000/8000 [==============================] - 2s - loss: 0.3809 - acc: 0.8336     \n",
      "Epoch 8/100\n",
      "8000/8000 [==============================] - 1s - loss: 0.3767 - acc: 0.8429     \n",
      "Epoch 9/100\n",
      "8000/8000 [==============================] - 2s - loss: 0.3732 - acc: 0.8480     \n",
      "Epoch 10/100\n",
      "8000/8000 [==============================] - 2s - loss: 0.3697 - acc: 0.8481     \n",
      "Epoch 11/100\n",
      "8000/8000 [==============================] - 2s - loss: 0.3667 - acc: 0.8500     \n",
      "Epoch 12/100\n",
      "8000/8000 [==============================] - 2s - loss: 0.3656 - acc: 0.8512     \n",
      "Epoch 13/100\n",
      "8000/8000 [==============================] - 2s - loss: 0.3636 - acc: 0.8525     \n",
      "Epoch 14/100\n",
      "8000/8000 [==============================] - 2s - loss: 0.3615 - acc: 0.8540     \n",
      "Epoch 15/100\n",
      "8000/8000 [==============================] - 1s - loss: 0.3601 - acc: 0.8522     \n",
      "Epoch 16/100\n",
      "8000/8000 [==============================] - 2s - loss: 0.3596 - acc: 0.8554     \n",
      "Epoch 17/100\n",
      "8000/8000 [==============================] - 2s - loss: 0.3581 - acc: 0.8544     \n",
      "Epoch 18/100\n",
      "8000/8000 [==============================] - 2s - loss: 0.3568 - acc: 0.8545     \n",
      "Epoch 19/100\n",
      "8000/8000 [==============================] - 2s - loss: 0.3561 - acc: 0.8550     \n",
      "Epoch 20/100\n",
      "8000/8000 [==============================] - 2s - loss: 0.3554 - acc: 0.8556     \n",
      "Epoch 21/100\n",
      "8000/8000 [==============================] - 1s - loss: 0.3551 - acc: 0.8584     \n",
      "Epoch 22/100\n",
      "8000/8000 [==============================] - 2s - loss: 0.3540 - acc: 0.8547     \n",
      "Epoch 23/100\n",
      "8000/8000 [==============================] - 2s - loss: 0.3536 - acc: 0.8574     \n",
      "Epoch 24/100\n",
      "8000/8000 [==============================] - 2s - loss: 0.3527 - acc: 0.8582     - ETA: 1s\n",
      "Epoch 25/100\n",
      "8000/8000 [==============================] - 1s - loss: 0.3521 - acc: 0.8585     \n",
      "Epoch 26/100\n",
      "8000/8000 [==============================] - 1s - loss: 0.3517 - acc: 0.8572     - ETA: 1s - lo\n",
      "Epoch 27/100\n",
      "8000/8000 [==============================] - 1s - loss: 0.3521 - acc: 0.8569     - ETA: 0s - loss: 0.3550 -\n",
      "Epoch 28/100\n",
      "8000/8000 [==============================] - 2s - loss: 0.3512 - acc: 0.8579     \n",
      "Epoch 29/100\n",
      "8000/8000 [==============================] - 2s - loss: 0.3513 - acc: 0.8587     \n",
      "Epoch 30/100\n",
      "8000/8000 [==============================] - 2s - loss: 0.3505 - acc: 0.8586     \n",
      "Epoch 31/100\n",
      "8000/8000 [==============================] - 1s - loss: 0.3510 - acc: 0.8562     \n",
      "Epoch 32/100\n",
      "8000/8000 [==============================] - 1s - loss: 0.3494 - acc: 0.8607     \n",
      "Epoch 33/100\n",
      "8000/8000 [==============================] - 1s - loss: 0.3498 - acc: 0.8591     \n",
      "Epoch 34/100\n",
      "8000/8000 [==============================] - 1s - loss: 0.3484 - acc: 0.8592     \n",
      "Epoch 35/100\n",
      "8000/8000 [==============================] - 1s - loss: 0.3493 - acc: 0.8586     \n",
      "Epoch 36/100\n",
      "8000/8000 [==============================] - 1s - loss: 0.3487 - acc: 0.8611     \n",
      "Epoch 37/100\n",
      "8000/8000 [==============================] - 2s - loss: 0.3485 - acc: 0.8607     \n",
      "Epoch 38/100\n",
      "8000/8000 [==============================] - 2s - loss: 0.3484 - acc: 0.8592     \n",
      "Epoch 39/100\n",
      "8000/8000 [==============================] - 2s - loss: 0.3483 - acc: 0.8607     \n",
      "Epoch 40/100\n",
      "8000/8000 [==============================] - 2s - loss: 0.3475 - acc: 0.8577     \n",
      "Epoch 41/100\n",
      "8000/8000 [==============================] - 2s - loss: 0.3471 - acc: 0.8555     \n",
      "Epoch 42/100\n",
      "8000/8000 [==============================] - 2s - loss: 0.3470 - acc: 0.8597     \n",
      "Epoch 43/100\n",
      "8000/8000 [==============================] - 2s - loss: 0.3477 - acc: 0.8609     \n",
      "Epoch 44/100\n",
      "8000/8000 [==============================] - 2s - loss: 0.3471 - acc: 0.8596     \n",
      "Epoch 45/100\n",
      "8000/8000 [==============================] - 2s - loss: 0.3476 - acc: 0.8592     \n",
      "Epoch 46/100\n",
      "8000/8000 [==============================] - 2s - loss: 0.3472 - acc: 0.8581     \n",
      "Epoch 47/100\n",
      "8000/8000 [==============================] - 2s - loss: 0.3469 - acc: 0.8602     \n",
      "Epoch 48/100\n",
      "8000/8000 [==============================] - 2s - loss: 0.3464 - acc: 0.8594     \n",
      "Epoch 49/100\n",
      "8000/8000 [==============================] - 2s - loss: 0.3455 - acc: 0.8604     \n",
      "Epoch 50/100\n",
      "8000/8000 [==============================] - 2s - loss: 0.3472 - acc: 0.8619     \n",
      "Epoch 51/100\n",
      "8000/8000 [==============================] - 2s - loss: 0.3454 - acc: 0.8620     \n",
      "Epoch 52/100\n",
      "8000/8000 [==============================] - 2s - loss: 0.3454 - acc: 0.8601     - ETA: 0s - loss: 0.3563\n",
      "Epoch 53/100\n",
      "8000/8000 [==============================] - 2s - loss: 0.3455 - acc: 0.8599     \n",
      "Epoch 54/100\n",
      "8000/8000 [==============================] - 2s - loss: 0.3451 - acc: 0.8604     \n",
      "Epoch 55/100\n",
      "8000/8000 [==============================] - 2s - loss: 0.3454 - acc: 0.8597     \n",
      "Epoch 56/100\n",
      "8000/8000 [==============================] - 2s - loss: 0.3459 - acc: 0.8617     \n",
      "Epoch 57/100\n",
      "8000/8000 [==============================] - 2s - loss: 0.3455 - acc: 0.8604     \n",
      "Epoch 58/100\n",
      "8000/8000 [==============================] - 2s - loss: 0.3453 - acc: 0.8606     \n",
      "Epoch 59/100\n",
      "8000/8000 [==============================] - 2s - loss: 0.3461 - acc: 0.8597     \n",
      "Epoch 60/100\n",
      "8000/8000 [==============================] - 2s - loss: 0.3453 - acc: 0.8605     \n",
      "Epoch 61/100\n",
      "8000/8000 [==============================] - 2s - loss: 0.3451 - acc: 0.8595     \n",
      "Epoch 62/100\n",
      "8000/8000 [==============================] - 2s - loss: 0.3444 - acc: 0.8619     \n",
      "Epoch 63/100\n",
      "8000/8000 [==============================] - 2s - loss: 0.3453 - acc: 0.8604     \n",
      "Epoch 64/100\n",
      "8000/8000 [==============================] - 1s - loss: 0.3441 - acc: 0.8602     \n",
      "Epoch 65/100\n",
      "8000/8000 [==============================] - 2s - loss: 0.3446 - acc: 0.8577     \n",
      "Epoch 66/100\n",
      "8000/8000 [==============================] - 1s - loss: 0.3455 - acc: 0.8599     \n",
      "Epoch 67/100\n",
      "8000/8000 [==============================] - 2s - loss: 0.3450 - acc: 0.8605     \n",
      "Epoch 68/100\n",
      "8000/8000 [==============================] - 2s - loss: 0.3442 - acc: 0.8617     \n",
      "Epoch 69/100\n",
      "8000/8000 [==============================] - 1s - loss: 0.3443 - acc: 0.8610     \n",
      "Epoch 70/100\n",
      "8000/8000 [==============================] - 2s - loss: 0.3449 - acc: 0.8606     \n",
      "Epoch 71/100\n",
      "8000/8000 [==============================] - 2s - loss: 0.3448 - acc: 0.8591     \n",
      "Epoch 72/100\n",
      "8000/8000 [==============================] - 2s - loss: 0.3450 - acc: 0.8602     \n",
      "Epoch 73/100\n",
      "8000/8000 [==============================] - 2s - loss: 0.3440 - acc: 0.8609     \n",
      "Epoch 74/100\n",
      "8000/8000 [==============================] - 2s - loss: 0.3435 - acc: 0.8627     \n",
      "Epoch 75/100\n",
      "8000/8000 [==============================] - 2s - loss: 0.3440 - acc: 0.8595     \n",
      "Epoch 76/100\n",
      "8000/8000 [==============================] - 2s - loss: 0.3447 - acc: 0.8597     \n",
      "Epoch 77/100\n",
      "8000/8000 [==============================] - 2s - loss: 0.3449 - acc: 0.8601     \n",
      "Epoch 78/100\n",
      "8000/8000 [==============================] - 2s - loss: 0.3436 - acc: 0.8589     \n",
      "Epoch 79/100\n",
      "8000/8000 [==============================] - 2s - loss: 0.3446 - acc: 0.8609     \n",
      "Epoch 80/100\n",
      "8000/8000 [==============================] - 2s - loss: 0.3435 - acc: 0.8620     \n",
      "Epoch 81/100\n",
      "8000/8000 [==============================] - 2s - loss: 0.3451 - acc: 0.8604     \n",
      "Epoch 82/100\n",
      "8000/8000 [==============================] - 2s - loss: 0.3438 - acc: 0.8587     \n",
      "Epoch 83/100\n",
      "8000/8000 [==============================] - 2s - loss: 0.3437 - acc: 0.8614     \n",
      "Epoch 84/100\n",
      "8000/8000 [==============================] - 2s - loss: 0.3439 - acc: 0.8596     \n",
      "Epoch 85/100\n",
      "8000/8000 [==============================] - 2s - loss: 0.3438 - acc: 0.8600     \n",
      "Epoch 86/100\n"
     ]
    },
    {
     "name": "stdout",
     "output_type": "stream",
     "text": [
      "8000/8000 [==============================] - 1s - loss: 0.3436 - acc: 0.8609     \n",
      "Epoch 87/100\n",
      "8000/8000 [==============================] - 1s - loss: 0.3444 - acc: 0.8597     \n",
      "Epoch 88/100\n",
      "8000/8000 [==============================] - 1s - loss: 0.3441 - acc: 0.8596     \n",
      "Epoch 89/100\n",
      "8000/8000 [==============================] - 1s - loss: 0.3434 - acc: 0.8609     \n",
      "Epoch 90/100\n",
      "8000/8000 [==============================] - 1s - loss: 0.3439 - acc: 0.8614     \n",
      "Epoch 91/100\n",
      "8000/8000 [==============================] - 1s - loss: 0.3441 - acc: 0.8610     \n",
      "Epoch 92/100\n",
      "8000/8000 [==============================] - 1s - loss: 0.3437 - acc: 0.8619     \n",
      "Epoch 93/100\n",
      "8000/8000 [==============================] - 1s - loss: 0.3433 - acc: 0.8597     \n",
      "Epoch 94/100\n",
      "8000/8000 [==============================] - 1s - loss: 0.3433 - acc: 0.8587     \n",
      "Epoch 95/100\n",
      "8000/8000 [==============================] - 1s - loss: 0.3437 - acc: 0.8602     \n",
      "Epoch 96/100\n",
      "8000/8000 [==============================] - 1s - loss: 0.3434 - acc: 0.8599     \n",
      "Epoch 97/100\n",
      "8000/8000 [==============================] - 1s - loss: 0.3435 - acc: 0.8605     \n",
      "Epoch 98/100\n",
      "8000/8000 [==============================] - 1s - loss: 0.3436 - acc: 0.8612     \n",
      "Epoch 99/100\n",
      "8000/8000 [==============================] - 1s - loss: 0.3438 - acc: 0.8601     \n",
      "Epoch 100/100\n",
      "8000/8000 [==============================] - 1s - loss: 0.3433 - acc: 0.8622     \n"
     ]
    },
    {
     "data": {
      "text/plain": [
       "<keras.callbacks.History at 0x202ad7da898>"
      ]
     },
     "execution_count": 14,
     "metadata": {},
     "output_type": "execute_result"
    }
   ],
   "source": [
    "# Fitting the ANN to the Training set\n",
    "classifier.fit(X_train, y_train, batch_size = 10, nb_epoch = 100) #batch size is the number of records after which we would like to update our weigts\n"
   ]
  },
  {
   "cell_type": "markdown",
   "metadata": {},
   "source": [
    "Epoch = 1000 means we are running model 1000 times with input data coming in the batch of 10 each time. Each time in the cycle we can see the accuracy increasing."
   ]
  },
  {
   "cell_type": "code",
   "execution_count": 15,
   "metadata": {
    "collapsed": true
   },
   "outputs": [],
   "source": [
    "# Predicting the Test set results\n",
    "y_pred = classifier.predict(X_test)\n",
    "y_pred = (y_pred > 0.5)"
   ]
  },
  {
   "cell_type": "markdown",
   "metadata": {},
   "source": [
    "Here Y_pred gives us the probability of risk for each customer and we can sort the probability in the descending order to get the risk report."
   ]
  },
  {
   "cell_type": "code",
   "execution_count": 17,
   "metadata": {
    "collapsed": true
   },
   "outputs": [],
   "source": [
    "# Making the Confusion Matrix\n",
    "from sklearn.metrics import confusion_matrix\n",
    "cm = confusion_matrix(y_test, y_pred)\n"
   ]
  },
  {
   "cell_type": "code",
   "execution_count": 18,
   "metadata": {},
   "outputs": [
    {
     "data": {
      "text/plain": [
       "array([[1530,   65],\n",
       "       [ 213,  192]])"
      ]
     },
     "execution_count": 18,
     "metadata": {},
     "output_type": "execute_result"
    }
   ],
   "source": [
    "cm"
   ]
  }
 ],
 "metadata": {
  "kernelspec": {
   "display_name": "Python 3",
   "language": "python",
   "name": "python3"
  },
  "language_info": {
   "codemirror_mode": {
    "name": "ipython",
    "version": 3
   },
   "file_extension": ".py",
   "mimetype": "text/x-python",
   "name": "python",
   "nbconvert_exporter": "python",
   "pygments_lexer": "ipython3",
   "version": "3.5.3"
  }
 },
 "nbformat": 4,
 "nbformat_minor": 2
}
